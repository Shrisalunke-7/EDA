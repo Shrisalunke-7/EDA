{
 "cells": [
  {
   "cell_type": "code",
   "execution_count": 1,
   "id": "f4a97813-da06-489f-a66c-64c12f1de502",
   "metadata": {},
   "outputs": [],
   "source": [
    "import pandas as pd\n",
    "import numpy as np\n",
    "import matplotlib.pyplot as plt\n",
    "import seaborn as sns"
   ]
  },
  {
   "cell_type": "code",
   "execution_count": 2,
   "id": "18ed356e-69a5-4da8-967d-da8982f4272f",
   "metadata": {},
   "outputs": [
    {
     "data": {
      "text/html": [
       "<div>\n",
       "<style scoped>\n",
       "    .dataframe tbody tr th:only-of-type {\n",
       "        vertical-align: middle;\n",
       "    }\n",
       "\n",
       "    .dataframe tbody tr th {\n",
       "        vertical-align: top;\n",
       "    }\n",
       "\n",
       "    .dataframe thead th {\n",
       "        text-align: right;\n",
       "    }\n",
       "</style>\n",
       "<table border=\"1\" class=\"dataframe\">\n",
       "  <thead>\n",
       "    <tr style=\"text-align: right;\">\n",
       "      <th></th>\n",
       "      <th>case_id</th>\n",
       "      <th>continent</th>\n",
       "      <th>education_of_employee</th>\n",
       "      <th>has_job_experience</th>\n",
       "      <th>requires_job_training</th>\n",
       "      <th>no_of_employees</th>\n",
       "      <th>yr_of_estab</th>\n",
       "      <th>region_of_employment</th>\n",
       "      <th>prevailing_wage</th>\n",
       "      <th>unit_of_wage</th>\n",
       "      <th>full_time_position</th>\n",
       "      <th>case_status</th>\n",
       "    </tr>\n",
       "  </thead>\n",
       "  <tbody>\n",
       "    <tr>\n",
       "      <th>0</th>\n",
       "      <td>EZYV01</td>\n",
       "      <td>Asia</td>\n",
       "      <td>High School</td>\n",
       "      <td>N</td>\n",
       "      <td>N</td>\n",
       "      <td>14513</td>\n",
       "      <td>2007</td>\n",
       "      <td>West</td>\n",
       "      <td>592.2029</td>\n",
       "      <td>Hour</td>\n",
       "      <td>Y</td>\n",
       "      <td>Denied</td>\n",
       "    </tr>\n",
       "    <tr>\n",
       "      <th>1</th>\n",
       "      <td>EZYV02</td>\n",
       "      <td>Asia</td>\n",
       "      <td>Master's</td>\n",
       "      <td>Y</td>\n",
       "      <td>N</td>\n",
       "      <td>2412</td>\n",
       "      <td>2002</td>\n",
       "      <td>Northeast</td>\n",
       "      <td>83425.6500</td>\n",
       "      <td>Year</td>\n",
       "      <td>Y</td>\n",
       "      <td>Certified</td>\n",
       "    </tr>\n",
       "  </tbody>\n",
       "</table>\n",
       "</div>"
      ],
      "text/plain": [
       "  case_id continent education_of_employee has_job_experience  \\\n",
       "0  EZYV01      Asia           High School                  N   \n",
       "1  EZYV02      Asia              Master's                  Y   \n",
       "\n",
       "  requires_job_training  no_of_employees  yr_of_estab region_of_employment  \\\n",
       "0                     N            14513         2007                 West   \n",
       "1                     N             2412         2002            Northeast   \n",
       "\n",
       "   prevailing_wage unit_of_wage full_time_position case_status  \n",
       "0         592.2029         Hour                  Y      Denied  \n",
       "1       83425.6500         Year                  Y   Certified  "
      ]
     },
     "execution_count": 2,
     "metadata": {},
     "output_type": "execute_result"
    }
   ],
   "source": [
    "visa_df=pd.read_csv(r'C:\\Users\\raj\\Documents\\EDA\\Visadataset.csv')\n",
    "visa_df.head(2)"
   ]
  },
  {
   "cell_type": "markdown",
   "id": "ce62f3f2-6c5c-448c-9394-fa6b0081e354",
   "metadata": {},
   "source": [
    "**BOX PLOT**"
   ]
  },
  {
   "cell_type": "markdown",
   "id": "3820a60c-0958-426f-869a-0a0543537284",
   "metadata": {},
   "source": [
    "- box plot is used for detect outliers\n",
    "- box plot has min q1 q2 q3 and max value\n",
    "- Inside box plot red line represents median which 50  percent\n",
    "- **Outliers**\n",
    "- very very huge observation or very very small observation\n",
    "- which pull theh dat in any side of the distribution\n",
    "- mild outliers\n",
    "    - q1-1.5*IQR\n",
    "\n",
    "-Strong Outliers\n",
    "    -q1-3*IQR and q3+3IQR\n",
    "-IQR: inter quartile range\n",
    "    -IQR=Q3-Q1\n",
    "- q1:25p\n",
    "- q2:50p\n",
    "- q3:75p\n"
   ]
  },
  {
   "cell_type": "code",
   "execution_count": 3,
   "id": "ab8030d5-97ad-45dd-8b05-359c4f3705f1",
   "metadata": {},
   "outputs": [
    {
     "data": {
      "image/png": "[encoded data removed]",
      "text/plain": [
       "<Figure size 640x480 with 1 Axes>"
      ]
     },
     "metadata": {},
     "output_type": "display_data"
    }
   ],
   "source": [
    "plt.boxplot(visa_df['prevailing_wage'],vert=False)\n",
    "plt.show()"
   ]
  },
  {
   "cell_type": "code",
   "execution_count": 4,
   "id": "8e858bad-bde6-4d02-a05d-6fdf3bd21ebe",
   "metadata": {},
   "outputs": [
    {
     "data": {
      "text/plain": [
       "<Axes: >"
      ]
     },
     "execution_count": 4,
     "metadata": {},
     "output_type": "execute_result"
    },
    {
     "data": {
      "image/png": "[encoded data removed]",
      "text/plain": [
       "<Figure size 640x480 with 1 Axes>"
      ]
     },
     "metadata": {},
     "output_type": "display_data"
    }
   ],
   "source": [
    "sns.boxplot(visa_df['prevailing_wage'],\n",
    "            orient='h') #here 'h' means horizontal\n",
    "#Also when we use 'v' means vertical\n"
   ]
  },
  {
   "cell_type": "code",
   "execution_count": 5,
   "id": "3e1c7b36-a2b9-4a96-b369-2224de0bd7d2",
   "metadata": {},
   "outputs": [
    {
     "data": {
      "image/png": "[encoded data removed]",
      "text/plain": [
       "<Figure size 1400x200 with 2 Axes>"
      ]
     },
     "metadata": {},
     "output_type": "display_data"
    }
   ],
   "source": [
    "plt.figure(figsize=(14,2))\n",
    "plt.subplot(1,2,1).hist(visa_df['prevailing_wage'])\n",
    "plt.subplot(1,2,2).hist(visa_df['prevailing_wage'])\n",
    "plt.show()"
   ]
  },
  {
   "cell_type": "code",
   "execution_count": 6,
   "id": "6968c732-63dd-458f-bc95-31adf8d0fdfc",
   "metadata": {},
   "outputs": [
    {
     "ename": "SyntaxError",
     "evalue": "invalid decimal literal (3572658297.py, line 5)",
     "output_type": "error",
     "traceback": [
      "\u001b[1;36m  Cell \u001b[1;32mIn[6], line 5\u001b[1;36m\u001b[0m\n\u001b[1;33m    - calculate Q1:25p\u001b[0m\n\u001b[1;37m                    ^\u001b[0m\n\u001b[1;31mSyntaxError\u001b[0m\u001b[1;31m:\u001b[0m invalid decimal literal\n"
     ]
    }
   ],
   "source": [
    "**Finding the Outliers**\n",
    "- outliers are avialable less than q1-1.5*IQR\n",
    "- outliers are available greater thean\n",
    "- step 1\n",
    "     - calculate Q1:25p\n",
    "     - calcualte Q3:75p\n",
    "- step2\n",
    "    L\n",
    "\n",
    "\n"
   ]
  },
  {
   "cell_type": "markdown",
   "id": "a095a08b-3642-49dc-b7a4-56c2f24e68fc",
   "metadata": {},
   "source": [
    "**- Q1=25p=34015.48\n",
    "Q3=75p=107735.51\n",
    "IQR**"
   ]
  },
  {
   "cell_type": "code",
   "execution_count": null,
   "id": "cb8acfef-d0e1-4a29-abe6-20f264a4c597",
   "metadata": {},
   "outputs": [],
   "source": [
    "IQR=34015.48-107735.51\n",
    "IQR"
   ]
  },
  {
   "cell_type": "code",
   "execution_count": null,
   "id": "7fd5238b-e425-4140-ac4d-af0eda706fcd",
   "metadata": {},
   "outputs": [],
   "source": [
    "\n",
    "lb=34015.48-1.5*-73720.03\n",
    "ub=107735.51-1.5*-73720.03\n",
    "(lb,ub)"
   ]
  },
  {
   "cell_type": "code",
   "execution_count": null,
   "id": "6b42b750-3dd4-4e62-be51-1554ccb6d3ee",
   "metadata": {},
   "outputs": [],
   "source": [
    "con1=round(np.percentile(visa_df['prevailing_wage']>144595.525,25),2)\n",
    "con2=round(np.percentile(visa_df['prevailing_wage']<218315.555,75),2)\n",
    "outliers_data=visa_df[con1 | con2 ]\n",
    "len(outliers_data)"
   ]
  },
  {
   "cell_type": "markdown",
   "id": "ef83ccfb-73df-4d92-a4e3-b4e982f1246c",
   "metadata": {},
   "source": [
    "**Non-Outliers Data**"
   ]
  },
  {
   "cell_type": "markdown",
   "id": "829c0691-5921-4fbf-9ac8-fd61316447a9",
   "metadata": {},
   "source": [
    "**Histogram and boxplot for non outliers data**"
   ]
  },
  {
   "cell_type": "code",
   "execution_count": null,
   "id": "c7d4fd7e-0965-4a00-9f9a-b3a6d918f04d",
   "metadata": {},
   "outputs": [],
   "source": [
    "plt.figure(figsize=(14,5))\n",
    "plt.suptitle('Non ouliers data vs Original data')\n",
    "plt.subplot(2,2,1).hist(non_outlier_data['prevailing_wage'])\n",
    "plt.subplot(2,2,2).boxplot(non_outliers_data['prevailing_wage'])\n",
    "plt.subplot(2,2,3).hist(non_outlier_data(visa_df['prevailing_wage']))\n",
    "plt.subplot(2,2,4).boxplot(non_outliers_data(visa_df['prevailing_wage']))\n",
    "plt.show()"
   ]
  },
  {
   "cell_type": "code",
   "execution_count": null,
   "id": "3deadd63-ed63-4440-813a-f3dce7dee910",
   "metadata": {},
   "outputs": [],
   "source": [
    "**How to deal with outliers**\n",
    "**method 1**\n",
    "- drop the outliers \n",
    "_ drop the outliers is not a good idea\n",
    "- for example here we are droppping 427 rows\n",
    "-  427**"
   ]
  },
  {
   "cell_type": "code",
   "execution_count": null,
   "id": "397f557f-0fe7-4d6b-84f6-246d75902dba",
   "metadata": {},
   "outputs": [],
   "source": [
    "**Fill with medain**\n",
    "- create a empty list \n",
    "- iterate the visa_df['"
   ]
  },
  {
   "cell_type": "code",
   "execution_count": null,
   "id": "26328da5-6825-441d-85ba-39b662e88427",
   "metadata": {},
   "outputs": [],
   "source": [
    "median=round(visa_df['prevailing_wage'].median(),2)\n",
    "median\n",
    "l1=[]\n"
   ]
  },
  {
   "cell_type": "code",
   "execution_count": null,
   "id": "c18f00c2-35a7-4259-930a-55c32c8b30ec",
   "metadata": {},
   "outputs": [],
   "source": [
    "d={\"sub\":[\"DS\",\"ML\",\"CS\"],\n",
    "   \"Marks\":[100,150,20]}\n",
    "data=pd.DataFrame(d)"
   ]
  },
  {
   "cell_type": "code",
   "execution_count": null,
   "id": "a2911e5c-a091-45de-abfd-2160e81fcbfc",
   "metadata": {},
   "outputs": [],
   "source": [
    "con=data['Marks']>100\n",
    "l=np.where(con,1,data['Marks'])\n",
    "l"
   ]
  },
  {
   "cell_type": "code",
   "execution_count": null,
   "id": "1a1bdc82-a76b-47da-8842-69a55f31a3ee",
   "metadata": {},
   "outputs": [],
   "source": [
    "con1=visa_df['prevailing_wage']<lb \n",
    "con2=visa_df['prevailing_wage']>ub\n",
    "con=con1 | con2\n",
    "median=visa_df['prevailing_wage'].median()\n",
    "l=np.where(con,median,visa_df['prevailing_wage'])"
   ]
  },
  {
   "cell_type": "code",
   "execution_count": null,
   "id": "122f2501-4610-4fdf-98d8-f899550fe5db",
   "metadata": {},
   "outputs": [],
   "source": []
  }
 ],
 "metadata": {
  "kernelspec": {
   "display_name": "Python 3 (ipykernel)",
   "language": "python",
   "name": "python3"
  },
  "language_info": {
   "codemirror_mode": {
    "name": "ipython",
    "version": 3
   },
   "file_extension": ".py",
   "mimetype": "text/x-python",
   "name": "python",
   "nbconvert_exporter": "python",
   "pygments_lexer": "ipython3",
   "version": "3.11.7"
  }
 },
 "nbformat": 4,
 "nbformat_minor": 5
}
